{
 "cells": [
  {
   "cell_type": "code",
   "execution_count": null,
   "id": "97b38149-b211-48bc-8e79-3a754bf8a3f3",
   "metadata": {},
   "outputs": [],
   "source": [
    "import json\n",
    "import pandas as pd"
   ]
  },
  {
   "cell_type": "code",
   "execution_count": null,
   "id": "dd431fea-f26a-441c-8dd0-89f14a6cfa52",
   "metadata": {},
   "outputs": [],
   "source": [
    "with open(\"../data/restaurants/restaurant-metadata.json\") as f:\n",
    "    metadata = json.load(f)"
   ]
  },
  {
   "cell_type": "code",
   "execution_count": null,
   "id": "40375e7f-790b-44a4-9481-493e24023b06",
   "metadata": {},
   "outputs": [],
   "source": [
    "def metadata_for_restaurant(restaurant_name):\n",
    "    return next(iter(metadata), lambda m: m[\"restaurant_name\"] == restaurant_name)"
   ]
  },
  {
   "cell_type": "code",
   "execution_count": null,
   "id": "b493671a-6a91-46d6-81d6-c98dd50e41ff",
   "metadata": {},
   "outputs": [],
   "source": [
    "metadata_for_restaurant(\"GreatTokyoExpress\")"
   ]
  },
  {
   "cell_type": "code",
   "execution_count": null,
   "id": "6320aa5b-48ea-41d1-93f5-f2e4c3f420c7",
   "metadata": {},
   "outputs": [],
   "source": [
    "df = pd.DataFrame(metadata)"
   ]
  },
  {
   "cell_type": "code",
   "execution_count": null,
   "id": "136f4b00-76d8-4b87-aa09-9b06433f624f",
   "metadata": {},
   "outputs": [],
   "source": [
    "x = df.copy()\n",
    "x = x[x[\"district_name\"] == \"North District\"]\n",
    "x = x[x[\"restaurant_cuisine\"] == \"japanese\"]\n",
    "x = x[x[\"signature_dish\"] == \"sushi\"]\n",
    "# x = x[x[\"dishes\"].apply(lambda dishes: \"sashimi\" in dishes)]\n",
    "x = x.sort_values(\"average_price_per_person\", ascending=False)\n",
    "# x = x.sort_values(\"rating_food_stars\", ascending=False)\n",
    "# x = x.sort_values(\"rating_service_stars\", ascending=False)\n",
    "x\n",
    "# x.groupby(\"district_name\").mean(\"average_price_per_person\")"
   ]
  }
 ],
 "metadata": {
  "kernelspec": {
   "display_name": "Python 3 (ipykernel)",
   "language": "python",
   "name": "python3"
  },
  "language_info": {
   "codemirror_mode": {
    "name": "ipython",
    "version": 3
   },
   "file_extension": ".py",
   "mimetype": "text/x-python",
   "name": "python",
   "nbconvert_exporter": "python",
   "pygments_lexer": "ipython3",
   "version": "3.11.6"
  }
 },
 "nbformat": 4,
 "nbformat_minor": 5
}
